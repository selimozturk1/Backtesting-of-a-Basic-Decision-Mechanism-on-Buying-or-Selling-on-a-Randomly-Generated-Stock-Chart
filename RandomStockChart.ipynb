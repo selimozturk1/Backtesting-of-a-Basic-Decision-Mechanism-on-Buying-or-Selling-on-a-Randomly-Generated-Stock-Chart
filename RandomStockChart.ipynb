{
 "cells": [
  {
   "cell_type": "markdown",
   "metadata": {},
   "source": [
    "# Random Stock Generator"
   ]
  },
  {
   "cell_type": "markdown",
   "metadata": {},
   "source": [
    "This function creates a random stock chart without using any models.\n",
    "Generally, some methods such as Brownian Motion are used to create and replicate the stock charts.\n",
    "Our goal here is to create something totally random to check if the decision mechanism work on any situation.\n",
    "In this project, the decision mechanism is taken very simple however, when this project gets more complicated using more complex methodologies for the decision mechanism, the code will understand the method that is used to create the stock chart.\n",
    "However, since the real world stocks are changing with lots of variants, it is best to use something so random that the decision mechanism cannot understand and fit a model. Thus, we create this function with some assumptions to get the best possible random scenarios."
   ]
  },
  {
   "cell_type": "markdown",
   "metadata": {},
   "source": [
    "Let's define the libraries that we are going to use:"
   ]
  },
  {
   "cell_type": "code",
   "execution_count": 77,
   "metadata": {},
   "outputs": [],
   "source": [
    "import math\n",
    "import numpy\n",
    "import random\n",
    "import decimal\n",
    "import scipy.linalg\n",
    "import matplotlib\n",
    "import numpy.random as nrand\n",
    "import matplotlib.pyplot as plt"
   ]
  },
  {
   "cell_type": "markdown",
   "metadata": {},
   "source": [
    "Now let's define our variables:"
   ]
  },
  {
   "cell_type": "markdown",
   "metadata": {},
   "source": [
    "Since we don't care about the real prices let's start with the initial price of 1000."
   ]
  },
  {
   "cell_type": "code",
   "execution_count": 78,
   "metadata": {},
   "outputs": [],
   "source": [
    "InitialPrice = 1000"
   ]
  },
  {
   "cell_type": "markdown",
   "metadata": {},
   "source": [
    "We'll create two arrays, RandomInc which will contain the percentage of increase or decrease from the previous price. \n",
    "We'll think that our chart is for 15000 \"1 minute movements\" on a stock. And we'll set the first element of Random Price as the Initial Price."
   ]
  },
  {
   "cell_type": "code",
   "execution_count": 79,
   "metadata": {},
   "outputs": [],
   "source": [
    "RandomInc = numpy.empty(15000)\n",
    "RandomPrice = numpy.empty(15000)\n",
    "RandomPrice[0] = InitialPrice"
   ]
  },
  {
   "cell_type": "markdown",
   "metadata": {},
   "source": [
    "Here for the random chart, we make some assumptions. Since this is totally random, we'll assume that the below code will contain all of the possible scenarios that can happen in any time. This will be our first and most important assumption.\n",
    "\n",
    "Other assumptions will be:\n",
    "1) The price can move maximum of %1 in a minute in normal time.\n",
    "2) We set a variable suddenjump which will be decided every minute. If this number, fits the condition we'll assume that the price can move maximum of %5 in a minute. \n",
    "3) We can change the values of %1 and %5, however the chart seems to converge to 0 when we take bigger values. (This may be a point to look deeper in the further phases of the project)\n",
    "4) Since we don't want the stock to liquidate itself (go bankrupt), we'll assume that the price cannot go below 50 (considering the initial price is 1000)."
   ]
  },
  {
   "cell_type": "code",
   "execution_count": 80,
   "metadata": {},
   "outputs": [],
   "source": [
    "for i in range(15000):\n",
    "    suddenjump = random.uniform(0,1)\n",
    "    if suddenjump < 0.1:\n",
    "        RandomInc[i] = random.uniform(-0.05,0.05)\n",
    "    else:\n",
    "        RandomInc[i] = random.uniform(-0.01,0.01)\n",
    "            \n",
    "    if i!=14999:\n",
    "        if RandomPrice[i]+RandomPrice[i]*RandomInc[i] > 50:\n",
    "            RandomPrice[i+1] = RandomPrice[i]+RandomPrice[i]*RandomInc[i]\n",
    "        else:   \n",
    "            RandomPrice[i+1] = RandomPrice[i]-RandomPrice[i]*RandomInc[i]"
   ]
  },
  {
   "cell_type": "markdown",
   "metadata": {},
   "source": [
    "Just some more arrays to analyze further."
   ]
  },
  {
   "cell_type": "code",
   "execution_count": 81,
   "metadata": {},
   "outputs": [
    {
     "name": "stdout",
     "output_type": "stream",
     "text": [
      "162.3983716092819\n"
     ]
    }
   ],
   "source": [
    "RandomPrice5 = numpy.empty(3000)\n",
    "    \n",
    "for i in range(3000):\n",
    "    sum = 0\n",
    "    for j in range(i*5,(i+1)*5):\n",
    "        sum = sum + RandomPrice[j]  \n",
    "    RandomPrice5[i]=sum/5\n",
    "            \n",
    "RandomPrice15 = numpy.empty(1000)\n",
    "    \n",
    "for i in range(1000):\n",
    "    sum = 0\n",
    "    for j in range(i*15,(i+1)*15):\n",
    "        sum = sum + RandomPrice[j]  \n",
    "    RandomPrice15[i]=sum/15\n",
    "print(RandomPrice[14999])"
   ]
  },
  {
   "cell_type": "markdown",
   "metadata": {},
   "source": [
    "Now we'll plot our graph:"
   ]
  },
  {
   "cell_type": "code",
   "execution_count": 82,
   "metadata": {},
   "outputs": [
    {
     "data": {
      "image/png": "[encoded data removed]",
      "text/plain": [
       "<Figure size 432x288 with 1 Axes>"
      ]
     },
     "metadata": {
      "needs_background": "light"
     },
     "output_type": "display_data"
    }
   ],
   "source": [
    "plt.style.use(['bmh'])\n",
    "fig, ax = plt.subplots(1)\n",
    "fig.suptitle('Random Stock', fontsize=16)\n",
    "ax.set_xlabel('Time, t')\n",
    "ax.set_ylabel('Simulated Asset Price')\n",
    "x_axis = numpy.arange(0, 15000)\n",
    "\n",
    "plt.plot(x_axis, RandomPrice)\n",
    "plt.show()"
   ]
  },
  {
   "cell_type": "code",
   "execution_count": null,
   "metadata": {},
   "outputs": [],
   "source": []
  },
  {
   "cell_type": "code",
   "execution_count": null,
   "metadata": {},
   "outputs": [],
   "source": []
  }
 ],
 "metadata": {
  "kernelspec": {
   "display_name": "Python 3",
   "language": "python",
   "name": "python3"
  },
  "language_info": {
   "codemirror_mode": {
    "name": "ipython",
    "version": 3
   },
   "file_extension": ".py",
   "mimetype": "text/x-python",
   "name": "python",
   "nbconvert_exporter": "python",
   "pygments_lexer": "ipython3",
   "version": "3.7.3"
  }
 },
 "nbformat": 4,
 "nbformat_minor": 2
}
